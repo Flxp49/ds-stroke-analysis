{
 "cells": [
  {
   "cell_type": "code",
   "execution_count": null,
   "metadata": {},
   "outputs": [],
   "source": []
  }
 ],
 "metadata": {
  "kernelspec": {
   "display_name": "Python 3.10.5 64-bit",
   "language": "python",
   "name": "python3"
  },
  "language_info": {
   "name": "python",
   "version": "3.10.5"
  },
  "orig_nbformat": 4,
  "vscode": {
   "interpreter": {
    "hash": "7410d19865944befa31ecf2d0005ec903a837f579b6c46c6e06f3f94a009d486"
   }
  }
 },
 "nbformat": 4,
 "nbformat_minor": 2
}
